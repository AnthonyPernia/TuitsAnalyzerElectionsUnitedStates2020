{
 "cells": [
  {
   "cell_type": "code",
   "execution_count": 18,
   "metadata": {},
   "outputs": [],
   "source": [
    "import tweepy\n",
    "import json\n",
    "import psycopg2\n",
    "import data_cred as cred\n",
    "from geopy.geocoders import Nominatim"
   ]
  },
  {
   "cell_type": "code",
   "execution_count": 19,
   "metadata": {},
   "outputs": [],
   "source": [
    "consumer_key = cred.api_key\n",
    "consumer_secret = cred.api_secrect_key\n",
    "access_token = cred.access_token\n",
    "access_token_secret = cred.access_token_secrest\n",
    "geolocator = Nominatim(user_agent=\"twitter_scrapper\")"
   ]
  },
  {
   "cell_type": "code",
   "execution_count": 20,
   "metadata": {},
   "outputs": [],
   "source": [
    "def api_connection():\n",
    "    auth = tweepy.OAuthHandler(consumer_key, consumer_secret)\n",
    "    auth.set_access_token(access_token, access_token_secret)\n",
    "    api = tweepy.API(auth, wait_on_rate_limit=True, wait_on_rate_limit_notify=True)\n",
    "    try:\n",
    "        api.verify_credentials()\n",
    "        print(\"auth ok\")\n",
    "    except Exception as e:\n",
    "        print(e.Exception)\n",
    "\n",
    "    return api"
   ]
  },
  {
   "cell_type": "code",
   "execution_count": 21,
   "metadata": {
    "tags": []
   },
   "outputs": [
    {
     "output_type": "stream",
     "name": "stdout",
     "text": [
      "auth ok\n"
     ]
    }
   ],
   "source": [
    "api = api_connection()"
   ]
  },
  {
   "cell_type": "code",
   "execution_count": 22,
   "metadata": {},
   "outputs": [],
   "source": [
    "def extract_tweets(hashtag, count, geo):\n",
    "    #api = api_connection()\n",
    "    print('Init..')\n",
    "    tweets_json = []\n",
    "    tuits_cursor = tweepy.Cursor(api.search,q=hashtag, lang='es', result_type='recent', rpp=100, include_rts=False,tweet_mode='extended',geocode=geo).items(count)\n",
    "    #a = tuits_cursor.next()\n",
    "    for tweet in tuits_cursor:\n",
    "        if (not tweet.retweeted and 'RT @' not in tweet.full_text):\n",
    "            tweets_json.append(tweet._json)\n",
    "            #avatar, geo_loc, verificada?, tag, username, user_id, entities(img, url, etc), source(android,ios,web)\n",
    "    print('Ending..')\n",
    "    return tweets_json"
   ]
  },
  {
   "cell_type": "code",
   "execution_count": 23,
   "metadata": {},
   "outputs": [],
   "source": [
    "def apply_filter(topic):\n",
    "    since_until=' since:2020-10-08 until:2020-10-09'\n",
    "    filter_retweets=\" -filter:retweets\"\n",
    "    topic = topic+since_until\n",
    "    topic = topic+filter_retweets\n",
    "    return topic"
   ]
  },
  {
   "cell_type": "code",
   "execution_count": 24,
   "metadata": {},
   "outputs": [],
   "source": [
    "def connect_db(user,password,host,port,database):\n",
    "    connection = psycopg2.connect(user = user,\n",
    "                                  password = password,\n",
    "                                  host = host,\n",
    "                                  port = port,\n",
    "                                  database = database)\n",
    "    cursor = connection.cursor()\n",
    "    cursor.execute(\"SELECT version();\")\n",
    "    record = cursor.fetchone()\n",
    "    print(\"You are connected to - \", record,\"\\n\")              \n",
    "    return cursor,connection"
   ]
  },
  {
   "cell_type": "code",
   "execution_count": 35,
   "metadata": {},
   "outputs": [],
   "source": [
    "def search_by_geo(geo_data, topic, count, cursor, connection ):\n",
    "    for geo in geo_data:\n",
    "        location = geolocator.reverse(geo[0])\n",
    "        geo_t = geo[0]+',400km'\n",
    "        tweets = extract_tweets(apply_filter(topico_buscar_a),count, geo_t)\n",
    "        print(location.raw['address']['city'],location.raw['address']['country'], f' topic = {topic},  Count = {len(tweets)}')\n",
    "        insert_tweets(tweets, topic,cursor,connection,location )\n",
    "    return tweets\n"
   ]
  },
  {
   "cell_type": "code",
   "execution_count": 36,
   "metadata": {},
   "outputs": [],
   "source": [
    "def insert_tweets(tweets, topic,cursor,connection,location):\n",
    "    for  tweet in tweets:\n",
    "        #json.dumps(x)\n",
    "        script = \"INSERT INTO data_tweets (ID, tweet , topic, city_searched, country_searched) VALUES (%s, %s, %s, %s, %s) ON CONFLICT (ID) DO NOTHING;;\"\n",
    "        cursor.execute(script,(tweet['id'],json.dumps(tweet),topic, location.raw['address']['city'], location.raw['address']['country'] ))\n",
    "        connection.commit()\n"
   ]
  },
  {
   "cell_type": "code",
   "execution_count": 37,
   "metadata": {},
   "outputs": [
    {
     "output_type": "execute_result",
     "data": {
      "text/plain": [
       "('Lima', 'Peru')"
      ]
     },
     "metadata": {},
     "execution_count": 37
    }
   ],
   "source": [
    "location = geolocator.reverse('-12.0448728,-77.0488376')\n",
    "location.raw['address']['city'],location.raw['address']['country']"
   ]
  },
  {
   "cell_type": "code",
   "execution_count": 38,
   "metadata": {},
   "outputs": [
    {
     "output_type": "stream",
     "name": "stdout",
     "text": [
      "You are connected to -  ('PostgreSQL 12.4 (Ubuntu 12.4-1.pgdg20.04+1) on x86_64-pc-linux-gnu, compiled by gcc (Ubuntu 9.3.0-10ubuntu2) 9.3.0, 64-bit',) \n\n"
     ]
    }
   ],
   "source": [
    "cursor,connection = connect_db(cred.database_user,cred.database_pass,\"192.168.0.22\",'5432','data_tweets')"
   ]
  },
  {
   "cell_type": "code",
   "execution_count": 39,
   "metadata": {},
   "outputs": [
    {
     "output_type": "stream",
     "name": "stdout",
     "text": [
      "[['-33.4672832,-70.652568', 'santiago, chile'], ['-34.6025287,-58.3796486', ' buenos aires, argentina'], ['-23.5861315,-46.6582803', ' sao paulo, brasil'], ['-34.8207362,-56.3765221', 'montevideo, uruguay'], ['-31.3992876,-64.2643839', 'cordoba, argentina'], ['-32.8832979,-68.8760287', ' mendoza, argentina'], ['-31.6145747,-60.6980372', ' santa fe, argentina'], ['7.7721289,-72.226306', ' San cristobal , venezuela'], ['10.2241386,-67.3411383', ' La victoria, Aragua , venezuela'], ['10.4686988,-67.0304528', 'caracas, venezuela'], ['4.657911,-74.0959651', 'Bogota, colombia'], ['-12.0448728,-77.0488376', 'Lima, Peru']]\n"
     ]
    }
   ],
   "source": [
    "geo_data = cred.geo_data\n",
    "topico_buscar_a ='trump'\n",
    "topico_buscar_b ='biden'\n",
    "count = 8000\n",
    "print(geo_data)"
   ]
  },
  {
   "cell_type": "code",
   "execution_count": 32,
   "metadata": {},
   "outputs": [
    {
     "output_type": "error",
     "ename": "TypeError",
     "evalue": "can only concatenate list (not \"str\") to list",
     "traceback": [
      "\u001b[1;31m---------------------------------------------------------------------------\u001b[0m",
      "\u001b[1;31mTypeError\u001b[0m                                 Traceback (most recent call last)",
      "\u001b[1;32m<ipython-input-32-7322f8876210>\u001b[0m in \u001b[0;36m<module>\u001b[1;34m\u001b[0m\n\u001b[1;32m----> 1\u001b[1;33m \u001b[0mtweets_a\u001b[0m\u001b[1;33m=\u001b[0m \u001b[0msearch_by_geo\u001b[0m\u001b[1;33m(\u001b[0m\u001b[0mgeo_data\u001b[0m\u001b[1;33m,\u001b[0m \u001b[0mtopico_buscar_a\u001b[0m\u001b[1;33m,\u001b[0m \u001b[0mcount\u001b[0m\u001b[1;33m,\u001b[0m \u001b[0mcursor\u001b[0m\u001b[1;33m,\u001b[0m \u001b[0mconnection\u001b[0m  \u001b[1;33m)\u001b[0m\u001b[1;33m\u001b[0m\u001b[1;33m\u001b[0m\u001b[0m\n\u001b[0m",
      "\u001b[1;32m<ipython-input-31-23c1d081195f>\u001b[0m in \u001b[0;36msearch_by_geo\u001b[1;34m(geo_data, topic, count, cursor, connection)\u001b[0m\n\u001b[0;32m      2\u001b[0m     \u001b[1;32mfor\u001b[0m \u001b[0mgeo\u001b[0m \u001b[1;32min\u001b[0m \u001b[0mgeo_data\u001b[0m\u001b[1;33m:\u001b[0m\u001b[1;33m\u001b[0m\u001b[1;33m\u001b[0m\u001b[0m\n\u001b[0;32m      3\u001b[0m         \u001b[0mlocation\u001b[0m \u001b[1;33m=\u001b[0m \u001b[0mgeolocator\u001b[0m\u001b[1;33m.\u001b[0m\u001b[0mreverse\u001b[0m\u001b[1;33m(\u001b[0m\u001b[0mgeo\u001b[0m\u001b[1;33m[\u001b[0m\u001b[1;36m0\u001b[0m\u001b[1;33m]\u001b[0m\u001b[1;33m)\u001b[0m\u001b[1;33m\u001b[0m\u001b[1;33m\u001b[0m\u001b[0m\n\u001b[1;32m----> 4\u001b[1;33m         \u001b[0mgeo_t\u001b[0m \u001b[1;33m=\u001b[0m \u001b[0mgeo\u001b[0m\u001b[1;33m+\u001b[0m\u001b[1;34m',400km'\u001b[0m\u001b[1;33m\u001b[0m\u001b[1;33m\u001b[0m\u001b[0m\n\u001b[0m\u001b[0;32m      5\u001b[0m         \u001b[0mtweets\u001b[0m \u001b[1;33m=\u001b[0m \u001b[0mextract_tweets\u001b[0m\u001b[1;33m(\u001b[0m\u001b[0mapply_filter\u001b[0m\u001b[1;33m(\u001b[0m\u001b[0mtopico_buscar_a\u001b[0m\u001b[1;33m)\u001b[0m\u001b[1;33m,\u001b[0m\u001b[0mcount\u001b[0m\u001b[1;33m,\u001b[0m \u001b[0mgeo_t\u001b[0m\u001b[1;33m)\u001b[0m\u001b[1;33m\u001b[0m\u001b[1;33m\u001b[0m\u001b[0m\n\u001b[0;32m      6\u001b[0m         \u001b[0mprint\u001b[0m\u001b[1;33m(\u001b[0m\u001b[0mlocation\u001b[0m\u001b[1;33m.\u001b[0m\u001b[0mraw\u001b[0m\u001b[1;33m[\u001b[0m\u001b[1;34m'address'\u001b[0m\u001b[1;33m]\u001b[0m\u001b[1;33m[\u001b[0m\u001b[1;34m'city'\u001b[0m\u001b[1;33m]\u001b[0m\u001b[1;33m,\u001b[0m\u001b[0mlocation\u001b[0m\u001b[1;33m.\u001b[0m\u001b[0mraw\u001b[0m\u001b[1;33m[\u001b[0m\u001b[1;34m'address'\u001b[0m\u001b[1;33m]\u001b[0m\u001b[1;33m[\u001b[0m\u001b[1;34m'country'\u001b[0m\u001b[1;33m]\u001b[0m\u001b[1;33m,\u001b[0m \u001b[1;34mf' topic = {topic},  Count = {len(tweets)}'\u001b[0m\u001b[1;33m)\u001b[0m\u001b[1;33m\u001b[0m\u001b[1;33m\u001b[0m\u001b[0m\n",
      "\u001b[1;31mTypeError\u001b[0m: can only concatenate list (not \"str\") to list"
     ]
    }
   ],
   "source": [
    "tweets_a= search_by_geo(geo_data, topico_buscar_a, count, cursor, connection  )"
   ]
  },
  {
   "cell_type": "code",
   "execution_count": null,
   "metadata": {},
   "outputs": [],
   "source": []
  },
  {
   "cell_type": "code",
   "execution_count": null,
   "metadata": {},
   "outputs": [],
   "source": [
    "tweets_b= search_by_geo(geo_data, topico_buscar_b, count, cursor, connection  )\n"
   ]
  },
  {
   "cell_type": "code",
   "execution_count": null,
   "metadata": {
    "tags": []
   },
   "outputs": [],
   "source": []
  }
 ],
 "metadata": {
  "kernelspec": {
   "display_name": "Python 3",
   "language": "python",
   "name": "python3"
  },
  "language_info": {
   "codemirror_mode": {
    "name": "ipython",
    "version": 3
   },
   "file_extension": ".py",
   "mimetype": "text/x-python",
   "name": "python",
   "nbconvert_exporter": "python",
   "pygments_lexer": "ipython3",
   "version": "3.7.4-final"
  }
 },
 "nbformat": 4,
 "nbformat_minor": 2
}