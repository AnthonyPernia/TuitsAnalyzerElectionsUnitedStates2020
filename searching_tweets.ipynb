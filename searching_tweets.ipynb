{
 "cells": [
  {
   "cell_type": "code",
   "execution_count": 5,
   "metadata": {},
   "outputs": [],
   "source": [
    "import tweepy\n",
    "import json\n",
    "import psycopg2\n",
    "import cred\n",
    "from geopy.geocoders import Nominatim"
   ]
  },
  {
   "cell_type": "code",
   "execution_count": 6,
   "metadata": {},
   "outputs": [],
   "source": [
    "consumer_key = cred.api_key\n",
    "consumer_secret = cred.api_secrect_key\n",
    "access_token = cred.access_token\n",
    "access_token_secret = cred.access_token_secrest"
   ]
  },
  {
   "cell_type": "code",
   "execution_count": 7,
   "metadata": {},
   "outputs": [],
   "source": [
    "def api_connection():\n",
    "    auth = tweepy.OAuthHandler(consumer_key, consumer_secret)\n",
    "    auth.set_access_token(access_token, access_token_secret)\n",
    "    api = tweepy.API(auth, wait_on_rate_limit=True, wait_on_rate_limit_notify=True)\n",
    "    try:\n",
    "        api.verify_credentials()\n",
    "        print(\"auth ok\")\n",
    "    except Exception as e:\n",
    "        print(e.Exception)\n",
    "\n",
    "    return api"
   ]
  },
  {
   "cell_type": "code",
   "execution_count": 8,
   "metadata": {
    "tags": []
   },
   "outputs": [
    {
     "output_type": "stream",
     "name": "stdout",
     "text": [
      "auth ok\n"
     ]
    }
   ],
   "source": [
    "api = api_connection()"
   ]
  },
  {
   "cell_type": "code",
   "execution_count": 9,
   "metadata": {},
   "outputs": [],
   "source": [
    "def extract_tweets(hashtag, count, geo):\n",
    "    #api = api_connection()\n",
    "    print('Inicia..')\n",
    "    tweets_json = []\n",
    "    tuits_cursor = tweepy.Cursor(api.search,q=hashtag, lang='es', result_type='recent', rpp=100, include_rts=False,tweet_mode='extended',geocode=geo).items(count)\n",
    "    #a = tuits_cursor.next()\n",
    "    for tweet in tuits_cursor:\n",
    "        if (not tweet.retweeted and 'RT @' not in tweet.full_text):\n",
    "            tweets_json.append(tweet._json)\n",
    "            #avatar, geo_loc, verificada?, tag, username, user_id, entities(img, url, etc), source(android,ios,web)\n",
    "    return tweets_json"
   ]
  },
  {
   "cell_type": "code",
   "execution_count": 10,
   "metadata": {},
   "outputs": [],
   "source": [
    "def apply_filter(topic):\n",
    "    topic = topic+since_until\n",
    "    topic = topic+filter_retweets\n",
    "    return topic"
   ]
  },
  {
   "cell_type": "code",
   "execution_count": 11,
   "metadata": {},
   "outputs": [],
   "source": [
    "def connect_db(user,password,host,port,database):\n",
    "    connection = psycopg2.connect(user = user,\n",
    "                                  password = password,\n",
    "                                  host = host,\n",
    "                                  port = port,\n",
    "                                  database = database)\n",
    "    cursor = connection.cursor()\n",
    "    cursor.execute(\"SELECT version();\")\n",
    "    record = cursor.fetchone()\n",
    "    print(\"You are connected to - \", record,\"\\n\")              \n",
    "    return cursor,connection"
   ]
  },
  {
   "cell_type": "code",
   "execution_count": 38,
   "metadata": {},
   "outputs": [
    {
     "output_type": "stream",
     "name": "stdout",
     "text": [
      "You are connected to -  ('PostgreSQL 12.4 (Ubuntu 12.4-1.pgdg20.04+1) on x86_64-pc-linux-gnu, compiled by gcc (Ubuntu 9.3.0-10ubuntu2) 9.3.0, 64-bit',) \n\n"
     ]
    }
   ],
   "source": [
    "cursor,connection = connect_db(cred.database_user,cred.database_pass,\"192.168.0.22\",'5432','data_tweets')"
   ]
  },
  {
   "cell_type": "code",
   "execution_count": 33,
   "metadata": {},
   "outputs": [],
   "source": [
    "#geo = '-34.6025287,-58.3796486' # buenos aires, argentina\n",
    "#geo = '-23.5861315,-46.6582803' # sao paulo, brasil\n",
    "#geo = '-34.8207362,-56.3765221' #montevideo, uruguay\n",
    "#geo = '-32.8832979,-68.8760287' # mendoza, argentina\n",
    "#geo = '-31.3992876,-64.2643839' #cordoba, argentina\n",
    "#geo = '-31.6145747,-60.6980372' # santa fe, argentina\n",
    "#geo = '7.7721289,-72.226306' # San cristobal , venezuela\n",
    "#geo = '10.2241386,-67.3411383' # La victoria, Aragua , venezuela\n",
    "geo = '10.4686988,-67.0304528' #caracas, venezuela\n",
    "geo_t = geo+',400km'\n",
    "topico_buscar_a ='trump'\n",
    "topico_buscar_b ='biden'\n",
    "since_until=' since:2020-10-03 until:2020-10-07'\n",
    "count = 5000\n",
    "filter_retweets=\" -filter:retweets\""
   ]
  },
  {
   "cell_type": "code",
   "execution_count": 34,
   "metadata": {},
   "outputs": [
    {
     "output_type": "execute_result",
     "data": {
      "text/plain": [
       "('Caracas', 'Venezuela')"
      ]
     },
     "metadata": {},
     "execution_count": 34
    }
   ],
   "source": [
    "geolocator = Nominatim(user_agent=\"twitter_scrapper\")\n",
    "location = geolocator.reverse(geo)\n",
    "location.raw['address']['city'],location.raw['address']['country']"
   ]
  },
  {
   "cell_type": "code",
   "execution_count": 35,
   "metadata": {},
   "outputs": [
    {
     "output_type": "stream",
     "name": "stdout",
     "text": [
      "Inicia..\n",
      "Rate limit reached. Sleeping for: 1071\n"
     ]
    }
   ],
   "source": [
    "tweets_a= extract_tweets(apply_filter(topico_buscar_a),count, geo_t)"
   ]
  },
  {
   "cell_type": "code",
   "execution_count": 36,
   "metadata": {},
   "outputs": [
    {
     "output_type": "stream",
     "name": "stdout",
     "text": [
      "Inicia..\n",
      "Rate limit reached. Sleeping for: 1074\n"
     ]
    }
   ],
   "source": [
    "tweets_b= extract_tweets(apply_filter(topico_buscar_b),count, geo_t)"
   ]
  },
  {
   "cell_type": "code",
   "execution_count": 37,
   "metadata": {
    "tags": []
   },
   "outputs": [
    {
     "output_type": "stream",
     "name": "stdout",
     "text": [
      "4999 2469\n"
     ]
    }
   ],
   "source": [
    "print(len(tweets_a),len(tweets_b))"
   ]
  },
  {
   "cell_type": "code",
   "execution_count": 30,
   "metadata": {},
   "outputs": [],
   "source": [
    "def insert_tweets(tweet, topic,cursor,connection):\n",
    "    #json.dumps(x)\n",
    "    script = \"INSERT INTO data_tweets (ID, tweet , topic, city_searched, country_searched) VALUES (%s, %s, %s, %s, %s) ON CONFLICT (ID) DO NOTHING;;\"\n",
    "    cursor.execute(script,(tweet['id'],json.dumps(tweet),topic, location.raw['address']['city'], location.raw['address']['country'] ))\n",
    "    connection.commit()\n"
   ]
  },
  {
   "cell_type": "code",
   "execution_count": 31,
   "metadata": {
    "tags": []
   },
   "outputs": [],
   "source": [
    "for tweet in tweets_a:\n",
    "    insert_tweets(tweet,topico_buscar_a,cursor,connection)"
   ]
  },
  {
   "cell_type": "code",
   "execution_count": 32,
   "metadata": {
    "tags": []
   },
   "outputs": [],
   "source": [
    "for tweet in tweets_b:\n",
    "    insert_tweets(tweet,topico_buscar_b,cursor,connection)"
   ]
  },
  {
   "cell_type": "code",
   "execution_count": null,
   "metadata": {},
   "outputs": [],
   "source": []
  }
 ],
 "metadata": {
  "kernelspec": {
   "display_name": "Python 3",
   "language": "python",
   "name": "python3"
  },
  "language_info": {
   "codemirror_mode": {
    "name": "ipython",
    "version": 3
   },
   "file_extension": ".py",
   "mimetype": "text/x-python",
   "name": "python",
   "nbconvert_exporter": "python",
   "pygments_lexer": "ipython3",
   "version": "3.7.4-final"
  }
 },
 "nbformat": 4,
 "nbformat_minor": 2
}