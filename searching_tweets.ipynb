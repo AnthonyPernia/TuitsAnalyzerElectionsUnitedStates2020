{
 "cells": [
  {
   "cell_type": "code",
   "execution_count": 1,
   "metadata": {},
   "outputs": [],
   "source": [
    "import tweepy\n",
    "import json\n",
    "import psycopg2\n",
    "import data_cred as cred\n",
    "from geopy.geocoders import Nominatim"
   ]
  },
  {
   "cell_type": "code",
   "execution_count": 2,
   "metadata": {},
   "outputs": [],
   "source": [
    "consumer_key = cred.api_key\n",
    "consumer_secret = cred.api_secrect_key\n",
    "access_token = cred.access_token\n",
    "access_token_secret = cred.access_token_secrest\n",
    "geolocator = Nominatim(user_agent=\"twitter_scrapper\")"
   ]
  },
  {
   "cell_type": "code",
   "execution_count": 3,
   "metadata": {},
   "outputs": [],
   "source": [
    "def api_connection():\n",
    "    auth = tweepy.OAuthHandler(consumer_key, consumer_secret)\n",
    "    auth.set_access_token(access_token, access_token_secret)\n",
    "    api = tweepy.API(auth, wait_on_rate_limit=True, wait_on_rate_limit_notify=True)\n",
    "    try:\n",
    "        api.verify_credentials()\n",
    "        print(\"auth ok\")\n",
    "    except Exception as e:\n",
    "        print(e.Exception)\n",
    "\n",
    "    return api"
   ]
  },
  {
   "cell_type": "code",
   "execution_count": 4,
   "metadata": {
    "tags": []
   },
   "outputs": [
    {
     "output_type": "stream",
     "name": "stdout",
     "text": [
      "auth ok\n"
     ]
    }
   ],
   "source": [
    "api = api_connection()"
   ]
  },
  {
   "cell_type": "code",
   "execution_count": 12,
   "metadata": {},
   "outputs": [],
   "source": [
    "def extract_tweets(hashtag, count, geo):\n",
    "    #api = api_connection()\n",
    "    print('Init..')\n",
    "    tweets_json = []\n",
    "    tuits_cursor = tweepy.Cursor(api.search,q=hashtag, lang='es', result_type='recent', rpp=100, include_rts=False,tweet_mode='extended',geocode=geo).items(count)\n",
    "    #a = tuits_cursor.next()\n",
    "    for tweet in tuits_cursor:\n",
    "        if (not tweet.retweeted and 'RT @' not in tweet.full_text):\n",
    "            tweets_json.append(tweet._json)\n",
    "            #avatar, geo_loc, verificada?, tag, username, user_id, entities(img, url, etc), source(android,ios,web)\n",
    "    print('Ending..')\n",
    "    return tweets_json"
   ]
  },
  {
   "cell_type": "code",
   "execution_count": 13,
   "metadata": {},
   "outputs": [],
   "source": [
    "def apply_filter(topic):\n",
    "    since_until=' since:2020-10-12 until:2020-10-20'\n",
    "    filter_retweets=\" -filter:retweets\"\n",
    "    topic = topic+since_until\n",
    "    topic = topic+filter_retweets\n",
    "    return topic"
   ]
  },
  {
   "cell_type": "code",
   "execution_count": 14,
   "metadata": {},
   "outputs": [],
   "source": [
    "def connect_db(user,password,host,port,database):\n",
    "    connection = psycopg2.connect(user = user,\n",
    "                                  password = password,\n",
    "                                  host = host,\n",
    "                                  port = port,\n",
    "                                  database = database)\n",
    "    cursor = connection.cursor()\n",
    "    cursor.execute(\"SELECT version();\")\n",
    "    record = cursor.fetchone()\n",
    "    print(\"You are connected to - \", record,\"\\n\")              \n",
    "    return cursor,connection"
   ]
  },
  {
   "cell_type": "code",
   "execution_count": 18,
   "metadata": {},
   "outputs": [],
   "source": [
    "def search_by_geo(geo_data, topic, count, cursor, connection ):\n",
    "    for geo in geo_data:\n",
    "        location = geolocator.reverse(geo)\n",
    "        geo_t = geo+',400km'\n",
    "        tweets = extract_tweets(apply_filter(topico_buscar_a),count, geo_t)\n",
    "        print(location.raw['address']['city'],location.raw['address']['country'], f' topic = {topic},  Count = {len(tweets)}')\n",
    "        insert_tweets(tweets, topic,cursor,connection,location )\n",
    "    return tweets\n"
   ]
  },
  {
   "cell_type": "code",
   "execution_count": 19,
   "metadata": {},
   "outputs": [],
   "source": [
    "def insert_tweets(tweets, topic,cursor,connection,location):\n",
    "    for  tweet in tweets:\n",
    "        #json.dumps(x)\n",
    "        script = \"INSERT INTO data_tweets (ID, tweet , topic, city_searched, country_searched) VALUES (%s, %s, %s, %s, %s) ON CONFLICT (ID) DO NOTHING;;\"\n",
    "        cursor.execute(script,(tweet['id'],json.dumps(tweet),topic, location.raw['address']['city'], location.raw['address']['country'] ))\n",
    "        connection.commit()\n"
   ]
  },
  {
   "cell_type": "code",
   "execution_count": 16,
   "metadata": {},
   "outputs": [
    {
     "output_type": "execute_result",
     "data": {
      "text/plain": [
       "('Lima', 'Peru')"
      ]
     },
     "metadata": {},
     "execution_count": 16
    }
   ],
   "source": [
    "location = geolocator.reverse('-12.0448728,-77.0488376')\n",
    "location.raw['address']['city'],location.raw['address']['country']"
   ]
  },
  {
   "cell_type": "code",
   "execution_count": 20,
   "metadata": {},
   "outputs": [
    {
     "output_type": "stream",
     "name": "stdout",
     "text": [
      "You are connected to -  ('PostgreSQL 12.4 (Ubuntu 12.4-1.pgdg20.04+1) on x86_64-pc-linux-gnu, compiled by gcc (Ubuntu 9.3.0-10ubuntu2) 9.3.0, 64-bit',) \n\n"
     ]
    }
   ],
   "source": [
    "cursor,connection = connect_db(cred.database_user,cred.database_pass,\"192.168.0.22\",'5432','data_tweets')"
   ]
  },
  {
   "cell_type": "code",
   "execution_count": 22,
   "metadata": {},
   "outputs": [
    {
     "output_type": "stream",
     "name": "stdout",
     "text": [
      "['-33.4672832,-70.652568', '-34.6025287,-58.3796486', '-23.5861315,-46.6582803', '-34.8207362,-56.3765221', '-31.3992876,-64.2643839', '-32.8832979,-68.8760287', '-31.6145747,-60.6980372', '7.7721289,-72.226306', '10.2241386,-67.3411383', '10.4686988,-67.0304528', '4.657911,-74.0959651', '-12.0448728,-77.0488376']\n"
     ]
    }
   ],
   "source": [
    "geo_data = cred.geo_data\n",
    "topico_buscar_a ='trump'\n",
    "topico_buscar_b ='biden'\n",
    "count = 8000\n",
    "print(geo_data)"
   ]
  },
  {
   "cell_type": "code",
   "execution_count": 28,
   "metadata": {},
   "outputs": [
    {
     "output_type": "stream",
     "name": "stdout",
     "text": [
      "Inicia..\n",
      "Santiago Chile  topic = trump,  Count = 10\n",
      "Inicia..\n",
      "Buenos Aires Argentina  topic = trump,  Count = 10\n",
      "Inicia..\n",
      "São Paulo Brasil  topic = trump,  Count = 10\n",
      "Inicia..\n",
      "Montevideo Uruguay  topic = trump,  Count = 10\n",
      "Inicia..\n",
      "Córdoba Argentina  topic = trump,  Count = 10\n",
      "Inicia..\n",
      "Ciudad de Mendoza Argentina  topic = trump,  Count = 10\n",
      "Inicia..\n",
      "Santa Fe Argentina  topic = trump,  Count = 10\n",
      "Inicia..\n",
      "San Cristóbal Venezuela  topic = trump,  Count = 10\n",
      "Inicia..\n",
      "La Victoria Venezuela  topic = trump,  Count = 10\n",
      "Inicia..\n",
      "Caracas Venezuela  topic = trump,  Count = 10\n",
      "Inicia..\n",
      "Bogotá Colombia  topic = trump,  Count = 10\n"
     ]
    }
   ],
   "source": [
    "tweets_a= search_by_geo(geo_data, topico_buscar_a, count, cursor, connection  )"
   ]
  },
  {
   "cell_type": "code",
   "execution_count": 29,
   "metadata": {},
   "outputs": [
    {
     "output_type": "stream",
     "name": "stdout",
     "text": [
      "Inicia..\n",
      "Santiago Chile  topic = biden,  Count = 10\n",
      "Inicia..\n",
      "Buenos Aires Argentina  topic = biden,  Count = 10\n",
      "Inicia..\n",
      "São Paulo Brasil  topic = biden,  Count = 10\n",
      "Inicia..\n",
      "Montevideo Uruguay  topic = biden,  Count = 10\n",
      "Inicia..\n",
      "Córdoba Argentina  topic = biden,  Count = 10\n",
      "Inicia..\n",
      "Ciudad de Mendoza Argentina  topic = biden,  Count = 10\n",
      "Inicia..\n",
      "Santa Fe Argentina  topic = biden,  Count = 10\n",
      "Inicia..\n",
      "San Cristóbal Venezuela  topic = biden,  Count = 10\n",
      "Inicia..\n",
      "La Victoria Venezuela  topic = biden,  Count = 10\n",
      "Inicia..\n",
      "Caracas Venezuela  topic = biden,  Count = 10\n",
      "Inicia..\n",
      "Bogotá Colombia  topic = biden,  Count = 10\n"
     ]
    }
   ],
   "source": [
    "tweets_b= search_by_geo(geo_data, topico_buscar_b, count, cursor, connection  )\n"
   ]
  },
  {
   "cell_type": "code",
   "execution_count": null,
   "metadata": {
    "tags": []
   },
   "outputs": [],
   "source": []
  }
 ],
 "metadata": {
  "kernelspec": {
   "display_name": "Python 3",
   "language": "python",
   "name": "python3"
  },
  "language_info": {
   "codemirror_mode": {
    "name": "ipython",
    "version": 3
   },
   "file_extension": ".py",
   "mimetype": "text/x-python",
   "name": "python",
   "nbconvert_exporter": "python",
   "pygments_lexer": "ipython3",
   "version": "3.7.4-final"
  }
 },
 "nbformat": 4,
 "nbformat_minor": 2
}