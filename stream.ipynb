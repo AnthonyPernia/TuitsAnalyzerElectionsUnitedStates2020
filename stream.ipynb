{
 "metadata": {
  "language_info": {
   "codemirror_mode": {
    "name": "ipython",
    "version": 3
   },
   "file_extension": ".py",
   "mimetype": "text/x-python",
   "name": "python",
   "nbconvert_exporter": "python",
   "pygments_lexer": "ipython3",
   "version": "3.7.4-final"
  },
  "orig_nbformat": 2,
  "kernelspec": {
   "name": "Python 3.7.4 64-bit ('base': conda)",
   "display_name": "Python 3.7.4 64-bit ('base': conda)",
   "metadata": {
    "interpreter": {
     "hash": "e2520ed1ee96f382055e1bdb34005a5e83f6fea8827dee5f7a5b8f8d50648ffd"
    }
   }
  }
 },
 "nbformat": 4,
 "nbformat_minor": 2,
 "cells": [
  {
   "cell_type": "code",
   "execution_count": 49,
   "metadata": {},
   "outputs": [],
   "source": [
    "import tweepy\n",
    "import json \n",
    "import cred\n",
    "import pandas as pd"
   ]
  },
  {
   "cell_type": "code",
   "execution_count": 76,
   "metadata": {},
   "outputs": [],
   "source": [
    "consumer_key = cred.api_key\n",
    "consumer_secret = cred.api_secrect_key\n",
    "access_token = cred.access_token\n",
    "access_token_secret = cred.access_token_secrest\n",
    "tweets = []"
   ]
  },
  {
   "cell_type": "code",
   "execution_count": 77,
   "metadata": {},
   "outputs": [],
   "source": [
    "#Si usamos con clase\n",
    "class TweetListener(tweepy.StreamListener):\n",
    "\n",
    "    def on_connect(self):\n",
    "        print(\"conectado\")\n",
    "    def on_status(self, status):\n",
    "        #aca seria donde proceso los tuit que van llegando \n",
    "        print(status.text)\n",
    "        tweets.append(status.text)\n",
    "    def on_error(self, status_code):\n",
    "        print(f\"Error - {status_code}\")\n"
   ]
  },
  {
   "cell_type": "code",
   "execution_count": 78,
   "metadata": {},
   "outputs": [
    {
     "output_type": "stream",
     "name": "stdout",
     "text": [
      "RT @MaxBasev: Now it's time for #JS. Today I'm starting to learn this language (finally!), I hope that my other knowledge will help me in t…\n",
      "RT @MaxBasev: Now it's time for #JS. Today I'm starting to learn this language (finally!), I hope that my other knowledge will help me in t…\n"
     ]
    }
   ],
   "source": [
    "def api_connection():\n",
    "    auth = tweepy.OAuthHandler(consumer_key, consumer_secret)\n",
    "    auth.set_access_token(access_token, access_token_secret)\n",
    "    api = tweepy.API(auth, wait_on_rate_limit=True, wait_on_rate_limit_notify=True)\n",
    "    try:\n",
    "        api.verify_credentials()\n",
    "        print(\"auth ok\")\n",
    "        \n",
    "    except Exception as e:\n",
    "        print(e.Exception)\n",
    "\n",
    "    return api"
   ]
  },
  {
   "cell_type": "code",
   "execution_count": 79,
   "metadata": {},
   "outputs": [
    {
     "output_type": "stream",
     "name": "stdout",
     "text": [
      "auth ok\n"
     ]
    }
   ],
   "source": [
    "api = api_connection()"
   ]
  },
  {
   "cell_type": "code",
   "execution_count": 80,
   "metadata": {},
   "outputs": [],
   "source": [
    "stream = TweetListener()\n",
    "myStream  = tweepy.Stream(auth=api.auth,listener=stream)\n",
    "\n"
   ]
  },
  {
   "cell_type": "code",
   "execution_count": 88,
   "metadata": {},
   "outputs": [],
   "source": [
    "topico_buscar =['Yankees','-filter:retweets']"
   ]
  },
  {
   "cell_type": "code",
   "execution_count": 89,
   "metadata": {},
   "outputs": [],
   "source": [
    "    #aca seria los filtros que vamos a colocar, si es por temas\n",
    "myStream.filter(track=topico_buscar, is_async=True)"
   ]
  },
  {
   "cell_type": "code",
   "execution_count": 95,
   "metadata": {},
   "outputs": [
    {
     "output_type": "execute_result",
     "data": {
      "text/plain": [
       "0"
      ]
     },
     "metadata": {},
     "execution_count": 95
    }
   ],
   "source": [
    "len(tweets)"
   ]
  },
  {
   "cell_type": "code",
   "execution_count": 86,
   "metadata": {},
   "outputs": [
    {
     "output_type": "execute_result",
     "data": {
      "text/plain": [
       "[]"
      ]
     },
     "metadata": {},
     "execution_count": 86
    }
   ],
   "source": [
    "tweets"
   ]
  },
  {
   "cell_type": "code",
   "execution_count": 87,
   "metadata": {},
   "outputs": [],
   "source": [
    "myStream.disconnect()"
   ]
  },
  {
   "cell_type": "code",
   "execution_count": null,
   "metadata": {},
   "outputs": [],
   "source": [
    "    #aca seria los filtros que vamos a colocar, si es por cuentas, voy a probar primero con mi cuenta \n",
    "streamingApi.filter(\n",
    "    follow=[\"\"]\n",
    ")"
   ]
  },
  {
   "cell_type": "code",
   "execution_count": null,
   "metadata": {},
   "outputs": [],
   "source": [
    "#si quiero filtrar por locacion\n",
    "streamingApi.filter(\n",
    "    locations=[\"aca pondrian las coordenadas\"]\n",
    ")"
   ]
  }
 ]
}