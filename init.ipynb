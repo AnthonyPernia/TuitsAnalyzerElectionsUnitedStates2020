{
 "cells": [
  {
   "cell_type": "code",
   "execution_count": 2,
   "metadata": {},
   "outputs": [],
   "source": [
    "import tweepy\n",
    "import json "
   ]
  },
  {
   "cell_type": "code",
   "execution_count": null,
   "metadata": {},
   "outputs": [],
   "source": [
    "consumer_key = \"\"\n",
    "sonsumer_secret = \"\"\n",
    "access_token = \"\"\n",
    "access_token_secret = \"\"\n",
    "\n",
    "auth = tweepy.OAuthHandler(consumer_key, consumer_secret)\n",
    "auth.set_access_token(access_token, access_token_secret)\n",
    "\n",
    "api = tweepy.API(auth, wait_on_rate_limit=True,                                             wait_on_rate_limit_notify=True)\n"
   ]
  },
  {
   "cell_type": "code",
   "execution_count": null,
   "metadata": {},
   "outputs": [],
   "source": [
    "class TweetListener(tweepy.StreamListener):\n",
    "    def on_connect(self):\n",
    "        print(\"conectado\")\n",
    "    def on_status(self, status):\n",
    "        #aca seria donde proceso los tuit que van llegando \n",
    "        print(status.text)\n",
    "    def on_error(self, status_code):\n",
    "        print(f\"Error - {status_code}\")\n",
    "\n",
    "        "
   ]
  },
  {
   "cell_type": "code",
   "execution_count": null,
   "metadata": {},
   "outputs": [],
   "source": [
    "stream = TweetListener()\n",
    "streamingApi = tweepy.Stream(auth=api.auth,listener=stream)\n",
    "\n"
   ]
  },
  {
   "cell_type": "code",
   "execution_count": null,
   "metadata": {},
   "outputs": [],
   "source": [
    "    #aca seria los filtros que vamos a colocar, si es por cuentas, voy a probar primero con mi cuenta \n",
    "streamingApi.filter(\n",
    "\n",
    "    follow=[\"\"]\n",
    ")"
   ]
  },
  {
   "cell_type": "code",
   "execution_count": null,
   "metadata": {},
   "outputs": [],
   "source": [
    "    #aca seria los filtros que vamos a colocar, si es por temas\n",
    "streamingApi.filter(\n",
    "\n",
    "    track=[\"alguna palabra cualquiera\"]\n",
    ")"
   ]
  },
  {
   "cell_type": "code",
   "execution_count": null,
   "metadata": {},
   "outputs": [],
   "source": [
    "#si quiero filtrar por locacion\n",
    "streamingApi.filter(\n",
    "\n",
    "    locations=[\"aca pondrian las coordenadas\"]\n",
    ")"
   ]
  }
 ],
 "metadata": {
  "kernelspec": {
   "display_name": "Python 3",
   "language": "python",
   "name": "python3"
  },
  "language_info": {
   "codemirror_mode": {
    "name": "ipython",
    "version": 3
   },
   "file_extension": ".py",
   "mimetype": "text/x-python",
   "name": "python",
   "nbconvert_exporter": "python",
   "pygments_lexer": "ipython3",
   "version": "3.8.3"
  }
 },
 "nbformat": 4,
 "nbformat_minor": 2
}